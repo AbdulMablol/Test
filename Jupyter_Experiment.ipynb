{
  "nbformat": 4,
  "nbformat_minor": 0,
  "metadata": {
    "colab": {
      "name": "Jupyter Experiment",
      "provenance": [],
      "collapsed_sections": [],
      "authorship_tag": "ABX9TyPXYnrY+sIJFRu7RXnWH/4B",
      "include_colab_link": true
    },
    "kernelspec": {
      "name": "python3",
      "display_name": "Python 3"
    },
    "language_info": {
      "name": "python"
    }
  },
  "cells": [
    {
      "cell_type": "markdown",
      "metadata": {
        "id": "view-in-github",
        "colab_type": "text"
      },
      "source": [
        "<a href=\"https://colab.research.google.com/github/AbdulMablol/shady/blob/master/Jupyter_Experiment.ipynb\" target=\"_parent\"><img src=\"https://colab.research.google.com/assets/colab-badge.svg\" alt=\"Open In Colab\"/></a>"
      ]
    },
    {
      "cell_type": "markdown",
      "source": [
        "### This is a heading type 3\n",
        "##### This is 5 \n",
        "*Italic text*\n",
        "\n",
        "__underscore__\n",
        "\n",
        "Heading\n",
        "1. One\n",
        "2. Two\n",
        "3. Three\n",
        "\n",
        "[I'm an inline-style link](www.google.com)\n",
        "\n",
        "[I'm an inline-style link with title](https://www.google.com \"Google's Homepage\")\n",
        "\n",
        "this is a `highlighted text`\n",
        "\n",
        "```python\n",
        "s = \"Python syntax highlighting\"\n",
        "print s\n",
        "```"
      ],
      "metadata": {
        "id": "PfongLaYz1Ok"
      }
    },
    {
      "cell_type": "code",
      "source": [
        "%time\n",
        "print('table of squares')\n",
        "for i in range(10):\n",
        "  print(f'{i} times {i} = {i*i}')\n"
      ],
      "metadata": {
        "colab": {
          "base_uri": "https://localhost:8080/"
        },
        "id": "BGaZ4o7q28Uf",
        "outputId": "293b8a4a-45d1-43c4-d554-bf07e6e45a62"
      },
      "execution_count": 7,
      "outputs": [
        {
          "output_type": "stream",
          "name": "stdout",
          "text": [
            "CPU times: user 4 µs, sys: 1e+03 ns, total: 5 µs\n",
            "Wall time: 8.11 µs\n",
            "table of squares\n",
            "0 times 0 = 0\n",
            "1 times 1 = 1\n",
            "2 times 2 = 4\n",
            "3 times 3 = 9\n",
            "4 times 4 = 16\n",
            "5 times 5 = 25\n",
            "6 times 6 = 36\n",
            "7 times 7 = 49\n",
            "8 times 8 = 64\n",
            "9 times 9 = 81\n"
          ]
        }
      ]
    }
  ]
}